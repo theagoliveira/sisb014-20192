{
 "cells": [
  {
   "cell_type": "code",
   "execution_count": 29,
   "metadata": {},
   "outputs": [
    {
     "name": "stdout",
     "output_type": "stream",
     "text": [
      "x_antes:  c b a \n",
      "x_depois: a b c "
     ]
    }
   ],
   "source": [
    "#include <stdio.h>\n",
    "\n",
    "void insertion_sort(char s[], int n) {\n",
    "    int i,j; /* contadores */\n",
    "    char aux;\n",
    "\n",
    "    for (i = 1; i < n; i++) {\n",
    "        j = i;\n",
    "        while ((j > 0) && (s[j] < s[j - 1])) {\n",
    "            /* troca os dois elementos */\n",
    "            aux = s[j];\n",
    "            s[j] = s[j - 1];\n",
    "            s[j - 1] = aux;\n",
    "\n",
    "            j = j - 1;\n",
    "        }\n",
    "    }\n",
    "}\n",
    "\n",
    "int main() {\n",
    "    char x[3] = {'c','b','a'};\n",
    "    \n",
    "    printf(\"x_antes:  \");\n",
    "    for (int i = 0; i < 3; i ++) {\n",
    "        printf(\"%c \", x[i]);\n",
    "    }\n",
    "    printf(\"\\n\");\n",
    "\n",
    "    insertion_sort(x, 3);\n",
    "    \n",
    "    printf(\"x_depois: \");\n",
    "    for (int i = 0; i < 3; i ++) {\n",
    "        printf(\"%c \", x[i]);\n",
    "    }\n",
    "    return 0;\n",
    "}"
   ]
  }
 ],
 "metadata": {
  "kernelspec": {
   "display_name": "C",
   "language": "c",
   "name": "c"
  },
  "language_info": {
   "file_extension": ".c",
   "mimetype": "text/plain",
   "name": "c"
  }
 },
 "nbformat": 4,
 "nbformat_minor": 2
}
